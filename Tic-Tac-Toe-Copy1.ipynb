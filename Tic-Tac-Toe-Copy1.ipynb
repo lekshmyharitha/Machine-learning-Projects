{
 "cells": [
  {
   "cell_type": "markdown",
   "metadata": {},
   "source": [
    "## A Tic-Tac-Toe game is played between 2 individuals. It has perfect information and isdeterministic game"
   ]
  },
  {
   "cell_type": "markdown",
   "metadata": {},
   "source": [
    "Question1 :Give a formal description of this application in terms of Task, Experience, and\n",
    "Performance. (Make it a well posed problem)"
   ]
  },
  {
   "cell_type": "markdown",
   "metadata": {},
   "source": [
    "Task:Identifying best moves in tic-tac-toe"
   ]
  },
  {
   "cell_type": "markdown",
   "metadata": {},
   "source": [
    "Experience: Game History generated from games played"
   ]
  },
  {
   "cell_type": "markdown",
   "metadata": {},
   "source": [
    "Performance:Percentage of Games won"
   ]
  },
  {
   "cell_type": "code",
   "execution_count": 1,
   "metadata": {},
   "outputs": [],
   "source": [
    "import numpy as np"
   ]
  },
  {
   "cell_type": "code",
   "execution_count": 2,
   "metadata": {},
   "outputs": [],
   "source": [
    "import copy"
   ]
  },
  {
   "cell_type": "markdown",
   "metadata": {},
   "source": [
    "Write a function Initialize() that initializes the board state for tic-tac-toe. Board can\n",
    "be represented as 3x3 matrix in python."
   ]
  },
  {
   "cell_type": "code",
   "execution_count": 3,
   "metadata": {},
   "outputs": [],
   "source": [
    "def  create_board(): \n",
    "    board =np.array([[0, 0,0], \n",
    "                     [0,0,0], \n",
    "                     [0, 0, 0]])\n",
    "    return board"
   ]
  },
  {
   "cell_type": "code",
   "execution_count": 4,
   "metadata": {},
   "outputs": [],
   "source": [
    "def print_board(board):\n",
    "    for row in board:\n",
    "        for slot in row:\n",
    "            print(f\"{slot}\"+ \"\",end=\"\")\n",
    "        print()"
   ]
  },
  {
   "cell_type": "code",
   "execution_count": 5,
   "metadata": {},
   "outputs": [
    {
     "name": "stdout",
     "output_type": "stream",
     "text": [
      "000\n",
      "000\n",
      "000\n"
     ]
    }
   ],
   "source": [
    "board=create_board()\n",
    "print_board(board)"
   ]
  },
  {
   "cell_type": "code",
   "execution_count": 6,
   "metadata": {},
   "outputs": [],
   "source": [
    "#Use in case of user input \n",
    "\n",
    "def cordinates(user_input):\n",
    "    row=int(user_input/3)\n",
    "    col=user_input\n",
    "    if col > 2:col = int(col %3)\n",
    "    return (row,col)"
   ]
  },
  {
   "cell_type": "code",
   "execution_count": 7,
   "metadata": {},
   "outputs": [],
   "source": [
    "def intialize_board(board_data,board):\n",
    "    #board_data=user_input\n",
    "    #print(board_data[i][j])\n",
    "    for i in range(3):\n",
    "        for j in range(3):\n",
    "            board[i][j]=board_data[i][j]\n",
    "     \n",
    "    return board"
   ]
  },
  {
   "cell_type": "markdown",
   "metadata": {},
   "source": [
    "Write a function PossibleMoves(b,p) that shows all the possible moves for a player ‘p’ given the current board state ‘b’."
   ]
  },
  {
   "cell_type": "code",
   "execution_count": 8,
   "metadata": {},
   "outputs": [],
   "source": [
    "#userinput is taken-board is empty\n",
    "def possible_moves( p, b):\n",
    "    l = []\n",
    "    board=create_board()\n",
    "    positionn=cordinates(b)\n",
    "    if p ==1:\n",
    "        board[positionn]=1\n",
    "        for i in range(len(board)): \n",
    "            for j in range(len(board)): \n",
    "              \n",
    "               if (board[i][j] == 0):\n",
    "                    l.append((i, j))\n",
    "    \n",
    "    return board,l"
   ]
  },
  {
   "cell_type": "code",
   "execution_count": 9,
   "metadata": {},
   "outputs": [
    {
     "data": {
      "text/plain": [
       "array([[1, 0, 1],\n",
       "       [0, 1, 2],\n",
       "       [0, 2, 0]])"
      ]
     },
     "execution_count": 9,
     "metadata": {},
     "output_type": "execute_result"
    }
   ],
   "source": [
    "#manually intializing board\n",
    "board=create_board()\n",
    "initial_board_state=intialize_board([[1,0,1],[0,1,2],[0,2,0]],board)\n",
    "initial_board_state"
   ]
  },
  {
   "cell_type": "code",
   "execution_count": 10,
   "metadata": {},
   "outputs": [],
   "source": [
    "#board is intialised\n",
    "def possible_movesn( p, b):\n",
    "    l = []\n",
    "    #board=create_board()\n",
    "    board=b\n",
    "    if p ==1:\n",
    "        for i in range(len(board)): \n",
    "            for j in range(len(board)): \n",
    "              \n",
    "               if (initial_board_state[i][j] == 0):\n",
    "                    l.append((i, j))\n",
    "    \n",
    "    return l"
   ]
  },
  {
   "cell_type": "code",
   "execution_count": 11,
   "metadata": {},
   "outputs": [
    {
     "name": "stdout",
     "output_type": "stream",
     "text": [
      "[(0, 1), (1, 0), (2, 0), (2, 2)]\n",
      "number of possible moves 4\n"
     ]
    }
   ],
   "source": [
    "possible_moves=possible_movesn(1,initial_board_state)\n",
    "\n",
    "print(possible_moves)\n",
    "print(\"number of possible moves\",len(possible_moves))"
   ]
  },
  {
   "cell_type": "markdown",
   "metadata": {},
   "source": [
    "Write a function Evaluate(b) to find the score for board state b."
   ]
  },
  {
   "cell_type": "code",
   "execution_count": 12,
   "metadata": {},
   "outputs": [],
   "source": [
    "def get_feature_value(board):\n",
    "    possibilities=[]\n",
    "    for row in board:\n",
    "            possibilities.append(row)\n",
    "    for column in board.T:\n",
    "            possibilities.append(column)\n",
    "    diagonals=np.array([[board[0][0],board[1][1],board[2][2]],[board[2][0],board[1][1],board[2][2],board[0][2]]],object)\n",
    "    for diagonal in diagonals:\n",
    "            possibilities.append(diagonal)\n",
    "    x1 = 0      \n",
    "    x2 = 0\n",
    "    x3 = 0\n",
    "    x4 = 0\n",
    "    x5 = 0\n",
    "    x6 = 0\n",
    "    for possibility in possibilities:\n",
    "            zeros = 0\n",
    "            Xs = 0\n",
    "            Os = 0\n",
    "            for entry in possibility:\n",
    "                    if entry == 0:\n",
    "                        zeros += 1\n",
    "                    elif entry == 1:\n",
    "                         Xs += 1\n",
    "                    elif entry == 2:\n",
    "                         Os += 1\n",
    "            if Xs == 2 and zeros == 1:\n",
    "                 x1 += 1\n",
    "            elif Os == 2 and zeros == 1:\n",
    "                x2 += 1\n",
    "            elif Xs == 1 and zeros == 2:\n",
    "                x3 += 1\n",
    "            elif Os == 1 and zeros == 2:\n",
    "                x4 += 1\n",
    "            elif Xs == 3:\n",
    "                x5 += 1\n",
    "            elif Os == 3:\n",
    "                x6 += 1\n",
    "    return x1,x2,x3,x4,x5,x6"
   ]
  },
  {
   "cell_type": "code",
   "execution_count": 13,
   "metadata": {},
   "outputs": [
    {
     "data": {
      "text/plain": [
       "array([2, 0, 1, 1, 0, 0])"
      ]
     },
     "execution_count": 13,
     "metadata": {},
     "output_type": "execute_result"
    }
   ],
   "source": [
    "x1,x2,x3,x4,x5,x6=get_feature_value(initial_board_state)\n",
    "X=np.array([x1,x2,x3,x4,x5,x6])\n",
    "X"
   ]
  },
  {
   "cell_type": "code",
   "execution_count": 14,
   "metadata": {},
   "outputs": [],
   "source": [
    "def evaluate(initial_board_state):\n",
    "    x1,x2,x3,x4,x5,x6=get_feature_value(initial_board_state)\n",
    "    X=np.array([x1,x2,x3,x4,x5,x6])\n",
    "    thetha = np.array([0.5,0.5,0.5,0.5,0.5,0.5])\n",
    "    score_v_b = np.dot( thetha.T,X)\n",
    "    #print(score_v_b)\n",
    "    if x5>0:\n",
    "        score=100\n",
    "    elif x6>0:\n",
    "        score=-100\n",
    "    elif (np.count_nonzero(initial_board_state))==9:\n",
    "        score= 0\n",
    "    else:\n",
    "        score= score_v_b\n",
    "    #print(score)\n",
    "    return score"
   ]
  },
  {
   "cell_type": "code",
   "execution_count": 15,
   "metadata": {},
   "outputs": [
    {
     "data": {
      "text/plain": [
       "2.0"
      ]
     },
     "execution_count": 15,
     "metadata": {},
     "output_type": "execute_result"
    }
   ],
   "source": [
    "score=evaluate(initial_board_state)\n",
    "score"
   ]
  },
  {
   "cell_type": "code",
   "execution_count": 16,
   "metadata": {},
   "outputs": [],
   "source": [
    "def movement(b,move,p):\n",
    "    b[move[0]][move[1]]=p\n",
    "    "
   ]
  },
  {
   "cell_type": "markdown",
   "metadata": {},
   "source": [
    "Write a function BestMove(b,p) to find the best move for a player ‘p’ given a board\n",
    "state ‘b’"
   ]
  },
  {
   "cell_type": "code",
   "execution_count": 17,
   "metadata": {},
   "outputs": [],
   "source": [
    "def bestmove(p,b):\n",
    "        movespossible = possible_movesn(p,b)\n",
    "        #print(movespossible) \n",
    "        player=p\n",
    "        scorelist=0\n",
    "        for move in movespossible:\n",
    "                board_new=copy.deepcopy(b)\n",
    "                #print(board_new)\n",
    "                movement(board_new,move ,p)\n",
    "                #print(board_new)\n",
    "                score=evaluate(board_new)\n",
    "                if (score > scorelist):\n",
    "                     b_move=move\n",
    "                    #print(b_move)\n",
    "                     scorelist=score\n",
    "                    #print(scorelist)\n",
    "                     b_move=move\n",
    "                     #print(b_move)\n",
    "        return b_move,scorelist,player"
   ]
  },
  {
   "cell_type": "code",
   "execution_count": 18,
   "metadata": {},
   "outputs": [
    {
     "name": "stdout",
     "output_type": "stream",
     "text": [
      "Best player is 1\n",
      "Best move is (0, 1)\n",
      "score is 100\n"
     ]
    }
   ],
   "source": [
    "b_move,scorelist,player= bestmove(1,initial_board_state)\n",
    "print(\"Best player is\",player)\n",
    "print(\"Best move is\",b_move)\n",
    "print(\"score is\",scorelist)"
   ]
  },
  {
   "cell_type": "code",
   "execution_count": 19,
   "metadata": {},
   "outputs": [],
   "source": [
    "board=create_board()\n",
    "#initial_board_state=intialize_board([[1,0,1],[0,1,2],[0,2,0]],board)"
   ]
  },
  {
   "cell_type": "code",
   "execution_count": 25,
   "metadata": {},
   "outputs": [],
   "source": [
    "initial_board_state=intialize_board([[0,0,5],[0,1,2],[0,0,0]],board)"
   ]
  },
  {
   "cell_type": "code",
   "execution_count": 26,
   "metadata": {},
   "outputs": [
    {
     "name": "stdout",
     "output_type": "stream",
     "text": [
      "Best player is 1\n",
      "Best move is (2, 0)\n",
      "score is 2.5\n"
     ]
    }
   ],
   "source": [
    "b_move,scorelist,player= bestmove(1,initial_board_state)\n",
    "print(\"Best player is\",player)\n",
    "print(\"Best move is\",b_move)\n",
    "print(\"score is\",scorelist)"
   ]
  },
  {
   "cell_type": "code",
   "execution_count": 28,
   "metadata": {},
   "outputs": [
    {
     "name": "stdout",
     "output_type": "stream",
     "text": [
      "Best player is 1\n",
      "Best move is (2, 0)\n",
      "score is 3.0\n"
     ]
    }
   ],
   "source": [
    "initial_board_state=intialize_board([[1,1,5],[0,0,2],[0,0,0]],board)\n",
    "b_move,scorelist,player= bestmove(1,initial_board_state)\n",
    "print(\"Best player is\",player)\n",
    "print(\"Best move is\",b_move)\n",
    "print(\"score is\",scorelist)"
   ]
  },
  {
   "cell_type": "code",
   "execution_count": null,
   "metadata": {},
   "outputs": [],
   "source": []
  }
 ],
 "metadata": {
  "kernelspec": {
   "display_name": "Python 3",
   "language": "python",
   "name": "python3"
  },
  "language_info": {
   "codemirror_mode": {
    "name": "ipython",
    "version": 3
   },
   "file_extension": ".py",
   "mimetype": "text/x-python",
   "name": "python",
   "nbconvert_exporter": "python",
   "pygments_lexer": "ipython3",
   "version": "3.8.5"
  }
 },
 "nbformat": 4,
 "nbformat_minor": 4
}
